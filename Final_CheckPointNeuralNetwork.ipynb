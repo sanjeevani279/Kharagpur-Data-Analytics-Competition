{
  "nbformat": 4,
  "nbformat_minor": 0,
  "metadata": {
    "colab": {
      "provenance": [],
      "collapsed_sections": [
        "HdhpeCOhy8Gm",
        "LkGmTqUPGaXI",
        "2T3Lgz5zzBPt",
        "g8ZjvkxTyAp0",
        "BGR2CBWZrzlm"
      ]
    },
    "kernelspec": {
      "name": "python3",
      "display_name": "Python 3"
    },
    "language_info": {
      "name": "python"
    },
    "gpuClass": "standard",
    "accelerator": "GPU"
  },
  "cells": [
    {
      "cell_type": "code",
      "execution_count": null,
      "metadata": {
        "id": "VZW8UeJX7C84"
      },
      "outputs": [],
      "source": [
        "import pandas as pd\n",
        "import matplotlib.pyplot as plt\n",
        "import numpy as np\n",
        "import datetime\n",
        "from sklearn.compose import ColumnTransformer\n",
        "from sklearn.preprocessing import OneHotEncoder\n",
        "import seaborn as sns\n",
        "\n",
        "import torch\n",
        "import torchvision\n",
        "from torch.utils.data import Dataset,DataLoader\n",
        "import math\n",
        "import torch.nn as nn\n",
        "softmax = nn.Softmax(dim=1)\n",
        "from sklearn import preprocessing\n",
        "from sklearn.model_selection import train_test_split"
      ]
    },
    {
      "cell_type": "code",
      "source": [
        "from google.colab import drive\n",
        "drive.mount('/content/drive')"
      ],
      "metadata": {
        "id": "eBeAYFIxe-ic",
        "colab": {
          "base_uri": "https://localhost:8080/"
        },
        "outputId": "a6a3cfa5-43a1-4249-ecd7-2e9e87a5ddd9"
      },
      "execution_count": null,
      "outputs": [
        {
          "output_type": "stream",
          "name": "stdout",
          "text": [
            "Drive already mounted at /content/drive; to attempt to forcibly remount, call drive.mount(\"/content/drive\", force_remount=True).\n"
          ]
        }
      ]
    },
    {
      "cell_type": "markdown",
      "source": [
        "#Read Data"
      ],
      "metadata": {
        "id": "HdhpeCOhy8Gm"
      }
    },
    {
      "cell_type": "code",
      "source": [
        "# reading excel file\n",
        "HCP_data = pd.read_csv(\"/content/drive/MyDrive/kdag/dataset/HCP_Data_KDAG_Hackathon.xlsx - HCP_Data_KDAG_Hackathon.csv\")  #change path"
      ],
      "metadata": {
        "id": "HjJZqKMB8rAc"
      },
      "execution_count": null,
      "outputs": []
    },
    {
      "cell_type": "code",
      "source": [
        "#new date formate for time period of HCP_data\n",
        "new_Time_Period = []\n",
        "for data in HCP_data['Time_Period']:\n",
        "  datetime_ = datetime.datetime.strptime(str(data), '%Y%m%d').date()\n",
        "  new_Time_Period.append(datetime_)\n",
        "HCP_data['Time_Period'] = new_Time_Period"
      ],
      "metadata": {
        "id": "a-eJmoejzNWI"
      },
      "execution_count": null,
      "outputs": []
    },
    {
      "cell_type": "code",
      "source": [
        "calls = HCP_data[\"Sales_Rep_Calls\"]\n",
        "samples = HCP_data[\"Samples_Dropped\"]\n",
        "emails = HCP_data[\"Emails_Delivered\"]\n",
        "brand_rx = HCP_data[\"Brand_Rx\"]\n",
        "market_rx = HCP_data[\"Market_Rx\"]\n",
        "time_period = HCP_data[\"Time_Period\"]\n",
        "speaker_program_attended = HCP_data['Speaker_Programs_Attended']\n",
        "vouchers_dropped = HCP_data['Vouchers_Dropped']"
      ],
      "metadata": {
        "id": "ZxTVTMGrOKvG"
      },
      "execution_count": null,
      "outputs": []
    },
    {
      "cell_type": "code",
      "source": [
        "HCP_data.head()"
      ],
      "metadata": {
        "colab": {
          "base_uri": "https://localhost:8080/",
          "height": 270
        },
        "id": "Qt00EuOe5W17",
        "outputId": "85e74085-d800-4170-82c4-f609454b03e6"
      },
      "execution_count": null,
      "outputs": [
        {
          "output_type": "execute_result",
          "data": {
            "text/plain": [
              "  Physician_ID Time_Period  Brand_Rx  Market_Rx  Sales_Rep_Calls  \\\n",
              "0     axt00001  2019-01-04       0.0    2.80567                1   \n",
              "1     axt00001  2019-01-11       0.0   20.57312                1   \n",
              "2     axt00001  2019-01-18       0.0    6.16010                1   \n",
              "3     axt00001  2019-01-25       0.0    8.95501                1   \n",
              "4     axt00001  2019-02-01       0.0    9.13793                1   \n",
              "\n",
              "   Samples_Dropped Physician_Segment  Emails_Delivered  \\\n",
              "0                0             3-Low                 0   \n",
              "1                0             3-Low                 0   \n",
              "2                0             3-Low                 0   \n",
              "3                5             3-Low                 0   \n",
              "4                0             3-Low                 0   \n",
              "\n",
              "   Speaker_Programs_Attended  Vouchers_Dropped      Specialty  \n",
              "0                          0                 0  Dermatologist  \n",
              "1                          0                 0  Dermatologist  \n",
              "2                          0                 0  Dermatologist  \n",
              "3                          0                 0  Dermatologist  \n",
              "4                          0                 0  Dermatologist  "
            ],
            "text/html": [
              "\n",
              "  <div id=\"df-f6b8a874-16bb-4c0b-afb4-f10a0529c093\">\n",
              "    <div class=\"colab-df-container\">\n",
              "      <div>\n",
              "<style scoped>\n",
              "    .dataframe tbody tr th:only-of-type {\n",
              "        vertical-align: middle;\n",
              "    }\n",
              "\n",
              "    .dataframe tbody tr th {\n",
              "        vertical-align: top;\n",
              "    }\n",
              "\n",
              "    .dataframe thead th {\n",
              "        text-align: right;\n",
              "    }\n",
              "</style>\n",
              "<table border=\"1\" class=\"dataframe\">\n",
              "  <thead>\n",
              "    <tr style=\"text-align: right;\">\n",
              "      <th></th>\n",
              "      <th>Physician_ID</th>\n",
              "      <th>Time_Period</th>\n",
              "      <th>Brand_Rx</th>\n",
              "      <th>Market_Rx</th>\n",
              "      <th>Sales_Rep_Calls</th>\n",
              "      <th>Samples_Dropped</th>\n",
              "      <th>Physician_Segment</th>\n",
              "      <th>Emails_Delivered</th>\n",
              "      <th>Speaker_Programs_Attended</th>\n",
              "      <th>Vouchers_Dropped</th>\n",
              "      <th>Specialty</th>\n",
              "    </tr>\n",
              "  </thead>\n",
              "  <tbody>\n",
              "    <tr>\n",
              "      <th>0</th>\n",
              "      <td>axt00001</td>\n",
              "      <td>2019-01-04</td>\n",
              "      <td>0.0</td>\n",
              "      <td>2.80567</td>\n",
              "      <td>1</td>\n",
              "      <td>0</td>\n",
              "      <td>3-Low</td>\n",
              "      <td>0</td>\n",
              "      <td>0</td>\n",
              "      <td>0</td>\n",
              "      <td>Dermatologist</td>\n",
              "    </tr>\n",
              "    <tr>\n",
              "      <th>1</th>\n",
              "      <td>axt00001</td>\n",
              "      <td>2019-01-11</td>\n",
              "      <td>0.0</td>\n",
              "      <td>20.57312</td>\n",
              "      <td>1</td>\n",
              "      <td>0</td>\n",
              "      <td>3-Low</td>\n",
              "      <td>0</td>\n",
              "      <td>0</td>\n",
              "      <td>0</td>\n",
              "      <td>Dermatologist</td>\n",
              "    </tr>\n",
              "    <tr>\n",
              "      <th>2</th>\n",
              "      <td>axt00001</td>\n",
              "      <td>2019-01-18</td>\n",
              "      <td>0.0</td>\n",
              "      <td>6.16010</td>\n",
              "      <td>1</td>\n",
              "      <td>0</td>\n",
              "      <td>3-Low</td>\n",
              "      <td>0</td>\n",
              "      <td>0</td>\n",
              "      <td>0</td>\n",
              "      <td>Dermatologist</td>\n",
              "    </tr>\n",
              "    <tr>\n",
              "      <th>3</th>\n",
              "      <td>axt00001</td>\n",
              "      <td>2019-01-25</td>\n",
              "      <td>0.0</td>\n",
              "      <td>8.95501</td>\n",
              "      <td>1</td>\n",
              "      <td>5</td>\n",
              "      <td>3-Low</td>\n",
              "      <td>0</td>\n",
              "      <td>0</td>\n",
              "      <td>0</td>\n",
              "      <td>Dermatologist</td>\n",
              "    </tr>\n",
              "    <tr>\n",
              "      <th>4</th>\n",
              "      <td>axt00001</td>\n",
              "      <td>2019-02-01</td>\n",
              "      <td>0.0</td>\n",
              "      <td>9.13793</td>\n",
              "      <td>1</td>\n",
              "      <td>0</td>\n",
              "      <td>3-Low</td>\n",
              "      <td>0</td>\n",
              "      <td>0</td>\n",
              "      <td>0</td>\n",
              "      <td>Dermatologist</td>\n",
              "    </tr>\n",
              "  </tbody>\n",
              "</table>\n",
              "</div>\n",
              "      <button class=\"colab-df-convert\" onclick=\"convertToInteractive('df-f6b8a874-16bb-4c0b-afb4-f10a0529c093')\"\n",
              "              title=\"Convert this dataframe to an interactive table.\"\n",
              "              style=\"display:none;\">\n",
              "        \n",
              "  <svg xmlns=\"http://www.w3.org/2000/svg\" height=\"24px\"viewBox=\"0 0 24 24\"\n",
              "       width=\"24px\">\n",
              "    <path d=\"M0 0h24v24H0V0z\" fill=\"none\"/>\n",
              "    <path d=\"M18.56 5.44l.94 2.06.94-2.06 2.06-.94-2.06-.94-.94-2.06-.94 2.06-2.06.94zm-11 1L8.5 8.5l.94-2.06 2.06-.94-2.06-.94L8.5 2.5l-.94 2.06-2.06.94zm10 10l.94 2.06.94-2.06 2.06-.94-2.06-.94-.94-2.06-.94 2.06-2.06.94z\"/><path d=\"M17.41 7.96l-1.37-1.37c-.4-.4-.92-.59-1.43-.59-.52 0-1.04.2-1.43.59L10.3 9.45l-7.72 7.72c-.78.78-.78 2.05 0 2.83L4 21.41c.39.39.9.59 1.41.59.51 0 1.02-.2 1.41-.59l7.78-7.78 2.81-2.81c.8-.78.8-2.07 0-2.86zM5.41 20L4 18.59l7.72-7.72 1.47 1.35L5.41 20z\"/>\n",
              "  </svg>\n",
              "      </button>\n",
              "      \n",
              "  <style>\n",
              "    .colab-df-container {\n",
              "      display:flex;\n",
              "      flex-wrap:wrap;\n",
              "      gap: 12px;\n",
              "    }\n",
              "\n",
              "    .colab-df-convert {\n",
              "      background-color: #E8F0FE;\n",
              "      border: none;\n",
              "      border-radius: 50%;\n",
              "      cursor: pointer;\n",
              "      display: none;\n",
              "      fill: #1967D2;\n",
              "      height: 32px;\n",
              "      padding: 0 0 0 0;\n",
              "      width: 32px;\n",
              "    }\n",
              "\n",
              "    .colab-df-convert:hover {\n",
              "      background-color: #E2EBFA;\n",
              "      box-shadow: 0px 1px 2px rgba(60, 64, 67, 0.3), 0px 1px 3px 1px rgba(60, 64, 67, 0.15);\n",
              "      fill: #174EA6;\n",
              "    }\n",
              "\n",
              "    [theme=dark] .colab-df-convert {\n",
              "      background-color: #3B4455;\n",
              "      fill: #D2E3FC;\n",
              "    }\n",
              "\n",
              "    [theme=dark] .colab-df-convert:hover {\n",
              "      background-color: #434B5C;\n",
              "      box-shadow: 0px 1px 3px 1px rgba(0, 0, 0, 0.15);\n",
              "      filter: drop-shadow(0px 1px 2px rgba(0, 0, 0, 0.3));\n",
              "      fill: #FFFFFF;\n",
              "    }\n",
              "  </style>\n",
              "\n",
              "      <script>\n",
              "        const buttonEl =\n",
              "          document.querySelector('#df-f6b8a874-16bb-4c0b-afb4-f10a0529c093 button.colab-df-convert');\n",
              "        buttonEl.style.display =\n",
              "          google.colab.kernel.accessAllowed ? 'block' : 'none';\n",
              "\n",
              "        async function convertToInteractive(key) {\n",
              "          const element = document.querySelector('#df-f6b8a874-16bb-4c0b-afb4-f10a0529c093');\n",
              "          const dataTable =\n",
              "            await google.colab.kernel.invokeFunction('convertToInteractive',\n",
              "                                                     [key], {});\n",
              "          if (!dataTable) return;\n",
              "\n",
              "          const docLinkHtml = 'Like what you see? Visit the ' +\n",
              "            '<a target=\"_blank\" href=https://colab.research.google.com/notebooks/data_table.ipynb>data table notebook</a>'\n",
              "            + ' to learn more about interactive tables.';\n",
              "          element.innerHTML = '';\n",
              "          dataTable['output_type'] = 'display_data';\n",
              "          await google.colab.output.renderOutput(dataTable, element);\n",
              "          const docLink = document.createElement('div');\n",
              "          docLink.innerHTML = docLinkHtml;\n",
              "          element.appendChild(docLink);\n",
              "        }\n",
              "      </script>\n",
              "    </div>\n",
              "  </div>\n",
              "  "
            ]
          },
          "metadata": {},
          "execution_count": 84
        }
      ]
    },
    {
      "cell_type": "code",
      "source": [
        "patient_data = pd.read_csv('/content/drive/MyDrive/kdag/dataset/Patient_Data_KDAG_Hackathon.xlsx - Patient_Data_KDAG_Hackathon.csv')"
      ],
      "metadata": {
        "id": "d4H3b_Pd4xdh"
      },
      "execution_count": null,
      "outputs": []
    },
    {
      "cell_type": "code",
      "source": [
        "#to change the date formate of patient data\n",
        "new_Visiting_Date = []\n",
        "patient_data['Date_of_Visit'] = pd.to_datetime(patient_data['Date_of_Visit'])\n",
        "for data in patient_data['Date_of_Visit']:\n",
        "  new_Visiting_Date.append(data.to_pydatetime())\n",
        "patient_data['Date_of_Visit'] = new_Visiting_Date"
      ],
      "metadata": {
        "id": "Ea2LgiTV88_c"
      },
      "execution_count": null,
      "outputs": []
    },
    {
      "cell_type": "code",
      "source": [
        "patient_data.head()"
      ],
      "metadata": {
        "colab": {
          "base_uri": "https://localhost:8080/",
          "height": 206
        },
        "id": "mjfF0dZi46Rd",
        "outputId": "772e16a3-7941-494a-e60c-d3847b3a581c"
      },
      "execution_count": null,
      "outputs": [
        {
          "output_type": "execute_result",
          "data": {
            "text/plain": [
              "   Patient ID Physician_ID Date_of_Visit  Year of Birth Gender  \\\n",
              "0       16445     axt01951    2020-01-12         1962.0      F   \n",
              "1       16445     axt01951    2019-09-25         1962.0      F   \n",
              "2       16445     axt01951    2019-02-12         1962.0      F   \n",
              "3       16445     axt01951    2019-11-07         1962.0      F   \n",
              "4       16445     axt01951    2019-04-17         1962.0      F   \n",
              "\n",
              "  Geographical_State  \n",
              "0                 ME  \n",
              "1                 ME  \n",
              "2                 ME  \n",
              "3                 ME  \n",
              "4                 ME  "
            ],
            "text/html": [
              "\n",
              "  <div id=\"df-5ca0628e-dcf5-44eb-9844-4ea46e7218bc\">\n",
              "    <div class=\"colab-df-container\">\n",
              "      <div>\n",
              "<style scoped>\n",
              "    .dataframe tbody tr th:only-of-type {\n",
              "        vertical-align: middle;\n",
              "    }\n",
              "\n",
              "    .dataframe tbody tr th {\n",
              "        vertical-align: top;\n",
              "    }\n",
              "\n",
              "    .dataframe thead th {\n",
              "        text-align: right;\n",
              "    }\n",
              "</style>\n",
              "<table border=\"1\" class=\"dataframe\">\n",
              "  <thead>\n",
              "    <tr style=\"text-align: right;\">\n",
              "      <th></th>\n",
              "      <th>Patient ID</th>\n",
              "      <th>Physician_ID</th>\n",
              "      <th>Date_of_Visit</th>\n",
              "      <th>Year of Birth</th>\n",
              "      <th>Gender</th>\n",
              "      <th>Geographical_State</th>\n",
              "    </tr>\n",
              "  </thead>\n",
              "  <tbody>\n",
              "    <tr>\n",
              "      <th>0</th>\n",
              "      <td>16445</td>\n",
              "      <td>axt01951</td>\n",
              "      <td>2020-01-12</td>\n",
              "      <td>1962.0</td>\n",
              "      <td>F</td>\n",
              "      <td>ME</td>\n",
              "    </tr>\n",
              "    <tr>\n",
              "      <th>1</th>\n",
              "      <td>16445</td>\n",
              "      <td>axt01951</td>\n",
              "      <td>2019-09-25</td>\n",
              "      <td>1962.0</td>\n",
              "      <td>F</td>\n",
              "      <td>ME</td>\n",
              "    </tr>\n",
              "    <tr>\n",
              "      <th>2</th>\n",
              "      <td>16445</td>\n",
              "      <td>axt01951</td>\n",
              "      <td>2019-02-12</td>\n",
              "      <td>1962.0</td>\n",
              "      <td>F</td>\n",
              "      <td>ME</td>\n",
              "    </tr>\n",
              "    <tr>\n",
              "      <th>3</th>\n",
              "      <td>16445</td>\n",
              "      <td>axt01951</td>\n",
              "      <td>2019-11-07</td>\n",
              "      <td>1962.0</td>\n",
              "      <td>F</td>\n",
              "      <td>ME</td>\n",
              "    </tr>\n",
              "    <tr>\n",
              "      <th>4</th>\n",
              "      <td>16445</td>\n",
              "      <td>axt01951</td>\n",
              "      <td>2019-04-17</td>\n",
              "      <td>1962.0</td>\n",
              "      <td>F</td>\n",
              "      <td>ME</td>\n",
              "    </tr>\n",
              "  </tbody>\n",
              "</table>\n",
              "</div>\n",
              "      <button class=\"colab-df-convert\" onclick=\"convertToInteractive('df-5ca0628e-dcf5-44eb-9844-4ea46e7218bc')\"\n",
              "              title=\"Convert this dataframe to an interactive table.\"\n",
              "              style=\"display:none;\">\n",
              "        \n",
              "  <svg xmlns=\"http://www.w3.org/2000/svg\" height=\"24px\"viewBox=\"0 0 24 24\"\n",
              "       width=\"24px\">\n",
              "    <path d=\"M0 0h24v24H0V0z\" fill=\"none\"/>\n",
              "    <path d=\"M18.56 5.44l.94 2.06.94-2.06 2.06-.94-2.06-.94-.94-2.06-.94 2.06-2.06.94zm-11 1L8.5 8.5l.94-2.06 2.06-.94-2.06-.94L8.5 2.5l-.94 2.06-2.06.94zm10 10l.94 2.06.94-2.06 2.06-.94-2.06-.94-.94-2.06-.94 2.06-2.06.94z\"/><path d=\"M17.41 7.96l-1.37-1.37c-.4-.4-.92-.59-1.43-.59-.52 0-1.04.2-1.43.59L10.3 9.45l-7.72 7.72c-.78.78-.78 2.05 0 2.83L4 21.41c.39.39.9.59 1.41.59.51 0 1.02-.2 1.41-.59l7.78-7.78 2.81-2.81c.8-.78.8-2.07 0-2.86zM5.41 20L4 18.59l7.72-7.72 1.47 1.35L5.41 20z\"/>\n",
              "  </svg>\n",
              "      </button>\n",
              "      \n",
              "  <style>\n",
              "    .colab-df-container {\n",
              "      display:flex;\n",
              "      flex-wrap:wrap;\n",
              "      gap: 12px;\n",
              "    }\n",
              "\n",
              "    .colab-df-convert {\n",
              "      background-color: #E8F0FE;\n",
              "      border: none;\n",
              "      border-radius: 50%;\n",
              "      cursor: pointer;\n",
              "      display: none;\n",
              "      fill: #1967D2;\n",
              "      height: 32px;\n",
              "      padding: 0 0 0 0;\n",
              "      width: 32px;\n",
              "    }\n",
              "\n",
              "    .colab-df-convert:hover {\n",
              "      background-color: #E2EBFA;\n",
              "      box-shadow: 0px 1px 2px rgba(60, 64, 67, 0.3), 0px 1px 3px 1px rgba(60, 64, 67, 0.15);\n",
              "      fill: #174EA6;\n",
              "    }\n",
              "\n",
              "    [theme=dark] .colab-df-convert {\n",
              "      background-color: #3B4455;\n",
              "      fill: #D2E3FC;\n",
              "    }\n",
              "\n",
              "    [theme=dark] .colab-df-convert:hover {\n",
              "      background-color: #434B5C;\n",
              "      box-shadow: 0px 1px 3px 1px rgba(0, 0, 0, 0.15);\n",
              "      filter: drop-shadow(0px 1px 2px rgba(0, 0, 0, 0.3));\n",
              "      fill: #FFFFFF;\n",
              "    }\n",
              "  </style>\n",
              "\n",
              "      <script>\n",
              "        const buttonEl =\n",
              "          document.querySelector('#df-5ca0628e-dcf5-44eb-9844-4ea46e7218bc button.colab-df-convert');\n",
              "        buttonEl.style.display =\n",
              "          google.colab.kernel.accessAllowed ? 'block' : 'none';\n",
              "\n",
              "        async function convertToInteractive(key) {\n",
              "          const element = document.querySelector('#df-5ca0628e-dcf5-44eb-9844-4ea46e7218bc');\n",
              "          const dataTable =\n",
              "            await google.colab.kernel.invokeFunction('convertToInteractive',\n",
              "                                                     [key], {});\n",
              "          if (!dataTable) return;\n",
              "\n",
              "          const docLinkHtml = 'Like what you see? Visit the ' +\n",
              "            '<a target=\"_blank\" href=https://colab.research.google.com/notebooks/data_table.ipynb>data table notebook</a>'\n",
              "            + ' to learn more about interactive tables.';\n",
              "          element.innerHTML = '';\n",
              "          dataTable['output_type'] = 'display_data';\n",
              "          await google.colab.output.renderOutput(dataTable, element);\n",
              "          const docLink = document.createElement('div');\n",
              "          docLink.innerHTML = docLinkHtml;\n",
              "          element.appendChild(docLink);\n",
              "        }\n",
              "      </script>\n",
              "    </div>\n",
              "  </div>\n",
              "  "
            ]
          },
          "metadata": {},
          "execution_count": 87
        }
      ]
    },
    {
      "cell_type": "code",
      "source": [
        "visit_date = patient_data[\"Date_of_Visit\"]"
      ],
      "metadata": {
        "id": "zr1PsLEm-ATI"
      },
      "execution_count": null,
      "outputs": []
    },
    {
      "cell_type": "code",
      "source": [
        "starting_date = []\n",
        "ending_date = []\n",
        "start = datetime.date(2019,1,1)\n",
        "for i, date in enumerate(time_period):\n",
        "  if i==57:\n",
        "    break\n",
        "  if i==0:\n",
        "    starting_date.append(start)\n",
        "  else:\n",
        "    starting_date.append(time_period[i-1]+datetime.timedelta(days=1))\n",
        "  ending_date.append(date)\n",
        "\n",
        "number = []\n",
        "for id in patient_data['Physician_ID']:\n",
        "  temp_string = id[3:]\n",
        "  if temp_string[0] == '0':\n",
        "    temp_string = temp_string[1:]\n",
        "  number.append(int(temp_string))\n",
        "\n",
        "patient_data['number'] = number\n",
        "temp_data = patient_data.sort_values('number',ignore_index=True)"
      ],
      "metadata": {
        "id": "0lBmPpG-Fgy0"
      },
      "execution_count": null,
      "outputs": []
    },
    {
      "cell_type": "code",
      "source": [
        "%%capture\n",
        "no_of_patient_visit_in_that_week = []\n",
        "i = 0\n",
        "j = 0\n",
        "count = 0\n",
        "while i<len(HCP_data):\n",
        "  doctor = HCP_data['Physician_ID'][i]\n",
        "  if i%5700==0:\n",
        "    print(i)\n",
        "  total_patient = [0]* 57\n",
        "  while j<len(temp_data) and temp_data['Physician_ID'][j]==doctor:\n",
        "    date_of_visit = temp_data['Date_of_Visit'][j]\n",
        "    for k in range(len(starting_date)):\n",
        "      if date_of_visit>=starting_date[k] and date_of_visit<=ending_date[k]:\n",
        "        total_patient[k] = total_patient[k]+1\n",
        "    j=j+1\n",
        "  no_of_patient_visit_in_that_week.extend(total_patient)\n",
        "  i+=57"
      ],
      "metadata": {
        "id": "OJZ0jDlgFgy0"
      },
      "execution_count": null,
      "outputs": []
    },
    {
      "cell_type": "code",
      "source": [
        "HCP_data['no_of_patient_visit'] = no_of_patient_visit_in_that_week\n",
        "patient_visit = HCP_data[\"no_of_patient_visit\"]"
      ],
      "metadata": {
        "id": "7kh_c0CgFgy0"
      },
      "execution_count": null,
      "outputs": []
    },
    {
      "cell_type": "code",
      "source": [
        "#add a new column called ratio = brand_rx/market_rx\n",
        "ratio = []\n",
        "for index in range(len(HCP_data)):\n",
        "  if HCP_data['Market_Rx'][0]!=0:\n",
        "    ratio.append(HCP_data['Brand_Rx'][0]/HCP_data['Market_Rx'][0])\n",
        "  else:\n",
        "    ratio.append(0)\n",
        "\n",
        "HCP_data['ratio'] = ratio"
      ],
      "metadata": {
        "id": "4uDdKoy3P7Lh"
      },
      "execution_count": null,
      "outputs": []
    },
    {
      "cell_type": "markdown",
      "source": [
        "#Neural Network"
      ],
      "metadata": {
        "id": "LkGmTqUPGaXI"
      }
    },
    {
      "cell_type": "markdown",
      "source": [
        "##PREPROCESSING"
      ],
      "metadata": {
        "id": "2T3Lgz5zzBPt"
      }
    },
    {
      "cell_type": "markdown",
      "source": [
        "1) one hot encoding and label categorical data"
      ],
      "metadata": {
        "id": "_TxuKZ-4f0HD"
      }
    },
    {
      "cell_type": "code",
      "source": [
        "print(HCP_data['Physician_Segment'].unique())\n",
        "print(HCP_data['Specialty'].unique())"
      ],
      "metadata": {
        "colab": {
          "base_uri": "https://localhost:8080/"
        },
        "id": "k0FELcker4MJ",
        "outputId": "070d54d3-8137-4dbb-8763-4b940b86d975"
      },
      "execution_count": null,
      "outputs": [
        {
          "output_type": "stream",
          "name": "stdout",
          "text": [
            "['3-Low' '1-High' '2-Medium']\n",
            "['Dermatologist' 'General Physician' 'Nurse Practitioner']\n"
          ]
        }
      ]
    },
    {
      "cell_type": "code",
      "source": [
        "Physician_Segment_label = []\n",
        "for index,data in enumerate(HCP_data['Physician_Segment']):\n",
        "  if data == '3-Low':\n",
        "    Physician_Segment_label.append(0)\n",
        "  elif data == '2-Medium':\n",
        "    Physician_Segment_label.append(1)\n",
        "  else:\n",
        "    Physician_Segment_label.append(2)"
      ],
      "metadata": {
        "id": "zAL3EGIlsCVG"
      },
      "execution_count": null,
      "outputs": []
    },
    {
      "cell_type": "code",
      "source": [
        "HCP_data['Physician_Segment']= Physician_Segment_label"
      ],
      "metadata": {
        "id": "bl74sUZaSami"
      },
      "execution_count": null,
      "outputs": []
    },
    {
      "cell_type": "code",
      "source": [
        "Speciality_Segment_label = []\n",
        "for index,data in enumerate(HCP_data['Specialty']):\n",
        "  if data == 'Nurse Practitioner':\n",
        "    Speciality_Segment_label.append(0)\n",
        "  elif data == 'General Physician':\n",
        "    Speciality_Segment_label.append(1)\n",
        "  else:\n",
        "    Speciality_Segment_label.append(2)"
      ],
      "metadata": {
        "id": "17jhVSqMRoxp"
      },
      "execution_count": null,
      "outputs": []
    },
    {
      "cell_type": "code",
      "source": [
        "HCP_data['Specialty']= Speciality_Segment_label"
      ],
      "metadata": {
        "id": "S3dxejnHtq8N"
      },
      "execution_count": null,
      "outputs": []
    },
    {
      "cell_type": "code",
      "source": [
        "temp_data = np.array(HCP_data)"
      ],
      "metadata": {
        "id": "VwwhYQIFlnc0"
      },
      "execution_count": null,
      "outputs": []
    },
    {
      "cell_type": "markdown",
      "source": [
        "2) Creating training data"
      ],
      "metadata": {
        "id": "7A8vshjKdK-a"
      }
    },
    {
      "cell_type": "markdown",
      "source": [
        "We haven't change HCP_data as it would take time to load if something goes wrong so here temp_data is referred as HCP_data"
      ],
      "metadata": {
        "id": "yanDzhlItGi_"
      }
    },
    {
      "cell_type": "code",
      "source": [
        "HCP_data_label = ['Physician_ID','Time_Period','Brand_Rx','Market_Rx','Sales_Rep_Calls','Samples_Dropped','Physician_Segment','Emails_Delivered','Speaker_Programs_Attended','Vouchers_Dropped','Specialty','no_of_patient_visit','ratio']"
      ],
      "metadata": {
        "id": "Rw1JEGXBjloj"
      },
      "execution_count": null,
      "outputs": []
    },
    {
      "cell_type": "code",
      "source": [
        "c = 0\n",
        "print(f'final HCP_data')\n",
        "for data in HCP_data_label:\n",
        "  print(f'{data} and its index {c}')\n",
        "  c = c+1"
      ],
      "metadata": {
        "colab": {
          "base_uri": "https://localhost:8080/"
        },
        "id": "Ec2pl04FjbP8",
        "outputId": "1b44567a-3bda-464d-f1c9-36ded8025d84"
      },
      "execution_count": null,
      "outputs": [
        {
          "output_type": "stream",
          "name": "stdout",
          "text": [
            "final HCP_data\n",
            "Physician_ID and its index 0\n",
            "Time_Period and its index 1\n",
            "Brand_Rx and its index 2\n",
            "Market_Rx and its index 3\n",
            "Sales_Rep_Calls and its index 4\n",
            "Samples_Dropped and its index 5\n",
            "Physician_Segment and its index 6\n",
            "Emails_Delivered and its index 7\n",
            "Speaker_Programs_Attended and its index 8\n",
            "Vouchers_Dropped and its index 9\n",
            "Specialty and its index 10\n",
            "no_of_patient_visit and its index 11\n",
            "ratio and its index 12\n"
          ]
        }
      ]
    },
    {
      "cell_type": "code",
      "source": [
        "p1 = 56\n",
        "p2 = 0\n",
        "y_train = []\n",
        "X_train = []\n",
        "X_test = []\n",
        "list_of_doctors = []\n",
        "for index,data in enumerate(temp_data):\n",
        "  if index==p2:\n",
        "    p2+=57\n",
        "  else:\n",
        "    y_train.append(data)\n",
        "\n",
        "  if index == p1:\n",
        "    p1+=57\n",
        "    X_test.append(data)\n",
        "    list_of_doctors.append(data[0])\n",
        "  else:\n",
        "    X_train.append(data)\n",
        "\n",
        "X_train = np.array(X_train)\n",
        "X_test = np.array(X_test)\n",
        "X_train = np.delete(X_train,[0,1,12],axis = 1)\n",
        "X_test = np.delete(X_test,[0,1,12],axis = 1)\n",
        "\n",
        "y_train = np.array(y_train)\n",
        "y_train = np.delete(y_train,[0,1,2,3,6,8,9,10,11,12],axis = 1)\n",
        "y_test = np.empty([560000, 5],dtype = int)"
      ],
      "metadata": {
        "id": "iWe-w8cAYcId"
      },
      "execution_count": null,
      "outputs": []
    },
    {
      "cell_type": "code",
      "source": [
        "for i in range(len(y_train)):\n",
        "  for j in range(len(y_train[0])):\n",
        "    if y_train[i][j]>0:\n",
        "      y_train[i][j]=1"
      ],
      "metadata": {
        "id": "YET22NI0csUS"
      },
      "execution_count": null,
      "outputs": []
    },
    {
      "cell_type": "markdown",
      "source": [
        "3) Removing all data with all 3 zeros</br>\n",
        "temp_X_train all zero element are removed</br>\n",
        "temp_y_train all zero element are removed</br>\n",
        "temp_label have only labels"
      ],
      "metadata": {
        "id": "UqvIlrVMlWZA"
      }
    },
    {
      "cell_type": "code",
      "source": [
        "temp_X_train = []\n",
        "temp_y_train = []\n",
        "for index,data in enumerate(y_train):\n",
        "  if data[0]==0 and data[1]==0 and data[2]==0:\n",
        "    continue\n",
        "  else:\n",
        "    temp_X_train.append(X_train[index])\n",
        "    temp_y_train.append(y_train[index])"
      ],
      "metadata": {
        "id": "2MSnR-_scsUS"
      },
      "execution_count": null,
      "outputs": []
    },
    {
      "cell_type": "code",
      "source": [
        "np.sum(temp_y_train,0)"
      ],
      "metadata": {
        "colab": {
          "base_uri": "https://localhost:8080/"
        },
        "id": "oS2ghbFmkbdD",
        "outputId": "5dc88c53-9818-4ef6-e4b4-092a2c13b480"
      },
      "execution_count": null,
      "outputs": [
        {
          "output_type": "execute_result",
          "data": {
            "text/plain": [
              "array([220267, 57860, 97815], dtype=object)"
            ]
          },
          "metadata": {},
          "execution_count": 104
        }
      ]
    },
    {
      "cell_type": "code",
      "source": [
        "temp_X_train, temp_X_val, temp_y_train, temp_y_val = train_test_split(temp_X_train, temp_y_train, test_size=0.2, random_state=42)"
      ],
      "metadata": {
        "id": "SLd-8xPaP28B"
      },
      "execution_count": null,
      "outputs": []
    },
    {
      "cell_type": "code",
      "source": [
        "\n",
        "temp_X_train = np.array(temp_X_train)\n",
        "temp_y_train = np.array(temp_y_train)\n",
        "\n",
        "\n",
        "temp_X_val = np.array(temp_X_val)\n",
        "temp_y_val = np.array(temp_y_val)\n"
      ],
      "metadata": {
        "id": "Q_BjHY92bAvl"
      },
      "execution_count": null,
      "outputs": []
    },
    {
      "cell_type": "code",
      "source": [
        "label_X_train = ['Brand_Rx','Market_Rx','Sales_Rep_Calls','Samples_Dropped','Physician_Segment','Emails_Delivered','Speaker_Programs_Attended','Vouchers_Dropped','Specialty','no_of_patient_visit']\n",
        "\n",
        "label_X_val = ['Brand_Rx','Market_Rx','Sales_Rep_Calls','Samples_Dropped','Physician_Segment','Emails_Delivered','Speaker_Programs_Attended','Vouchers_Dropped','Specialty','no_of_patient_visit']\n"
      ],
      "metadata": {
        "id": "e_qQLS4rwe0L"
      },
      "execution_count": null,
      "outputs": []
    },
    {
      "cell_type": "code",
      "source": [
        "label_y_train = ['Sales_Rep_Calls','Samples_Dropped','Emails_Delivered']\n",
        "\n",
        "label_y_val = ['Sales_Rep_Calls','Samples_Dropped','Emails_Delivered']"
      ],
      "metadata": {
        "id": "kdPxo7dXxnHu"
      },
      "execution_count": null,
      "outputs": []
    },
    {
      "cell_type": "markdown",
      "source": [
        "##Neural Network Training\n"
      ],
      "metadata": {
        "id": "g8ZjvkxTyAp0"
      }
    },
    {
      "cell_type": "markdown",
      "source": [
        "Tensor Board"
      ],
      "metadata": {
        "id": "ZFrn0W_0Xf3N"
      }
    },
    {
      "cell_type": "markdown",
      "source": [
        "1) Dataset and DataLoader"
      ],
      "metadata": {
        "id": "RqQhhsGy5WdX"
      }
    },
    {
      "cell_type": "code",
      "source": [
        "class timeSeriesDataset(Dataset):\n",
        "\n",
        "  def __init__(self,final_features,final_classification):\n",
        "    self.x = torch.from_numpy(final_features.astype('float64'))\n",
        "    self.y = torch.from_numpy(final_classification.astype('float64'))\n",
        "    self.n_samples = len(self.x)\n",
        "\n",
        "  def __len__(self):\n",
        "    return self.n_samples\n",
        "\n",
        "  def __getitem__(self,index):\n",
        "    return (self.x[index],self.y[index])\n"
      ],
      "metadata": {
        "id": "-SxFU4d42rTg"
      },
      "execution_count": null,
      "outputs": []
    },
    {
      "cell_type": "code",
      "source": [
        "batch_size = 128\n",
        "train_dataset = timeSeriesDataset(temp_X_train,temp_y_train)\n",
        "val_dataset = timeSeriesDataset(temp_X_val,temp_y_val)\n",
        "\n",
        "train_dataloader = DataLoader(train_dataset, batch_size=batch_size, shuffle=True , num_workers=2)\n",
        "val_dataloader = DataLoader(val_dataset, batch_size=batch_size, shuffle=True , num_workers=2)\n",
        "\n",
        "test_dataset = timeSeriesDataset(X_test,y_test)\n",
        "test_dataloader = DataLoader(test_dataset,batch_size=batch_size, shuffle=True , num_workers=2)"
      ],
      "metadata": {
        "id": "yseBnmF13yEv"
      },
      "execution_count": null,
      "outputs": []
    },
    {
      "cell_type": "code",
      "source": [
        "type(temp_X_train)"
      ],
      "metadata": {
        "colab": {
          "base_uri": "https://localhost:8080/"
        },
        "id": "zUdUa7Xg4fuF",
        "outputId": "b2883c8d-2a86-492d-e6d9-0fb2b1e03c77"
      },
      "execution_count": null,
      "outputs": [
        {
          "output_type": "execute_result",
          "data": {
            "text/plain": [
              "numpy.ndarray"
            ]
          },
          "metadata": {},
          "execution_count": 111
        }
      ]
    },
    {
      "cell_type": "markdown",
      "source": [
        "2) Model"
      ],
      "metadata": {
        "id": "jJ1aISm45Z9V"
      }
    },
    {
      "cell_type": "code",
      "source": [
        "device = torch.device(\"cuda\" if torch.cuda.is_available() else \"cpu\")\n",
        "print(\"Device available for running: \")\n",
        "print(device)"
      ],
      "metadata": {
        "colab": {
          "base_uri": "https://localhost:8080/"
        },
        "id": "uo9Q3M7_7RTE",
        "outputId": "42730ac2-20e4-47d0-a3d2-4b04d6b2f8d7"
      },
      "execution_count": null,
      "outputs": [
        {
          "output_type": "stream",
          "name": "stdout",
          "text": [
            "Device available for running: \n",
            "cpu\n"
          ]
        }
      ]
    },
    {
      "cell_type": "code",
      "source": [
        "#hyper - parameters\n",
        "input_size = len(X_train[0])\n",
        "hidden_size = 24\n",
        "num_classes = 3\n",
        "num_epochs = 100\n",
        "learning_rate = 0.001\n",
        "total_samples = len(train_dataset)\n",
        "num_iterations = int(total_samples/batch_size)"
      ],
      "metadata": {
        "id": "5w7QJ1A984lj"
      },
      "execution_count": null,
      "outputs": []
    },
    {
      "cell_type": "code",
      "source": [
        "class NeuralNet(nn.Module):\n",
        "  def __init__(self,input_size,hidden_size,num_classes):\n",
        "    super(NeuralNet,self).__init__()\n",
        "    self.l1 = nn.Linear(input_size,hidden_size)\n",
        "    self.l2 = nn.Linear(hidden_size,hidden_size)\n",
        "    self.relu = nn.ReLU()\n",
        "    self.l3 = nn.Linear(hidden_size,num_classes)\n",
        "\n",
        "  def forward(self,x):\n",
        "    out = self.l1(x)\n",
        "    out = self.relu(out)\n",
        "    out = self.l3(out)\n",
        "    return out"
      ],
      "metadata": {
        "id": "jRvT38Y187CF"
      },
      "execution_count": null,
      "outputs": []
    },
    {
      "cell_type": "code",
      "source": [
        "model = NeuralNet(input_size,hidden_size,num_classes)"
      ],
      "metadata": {
        "id": "wFK2gbYk9FG6"
      },
      "execution_count": null,
      "outputs": []
    },
    {
      "cell_type": "code",
      "source": [
        "#loss and optimizer\n",
        "criterion = nn.CrossEntropyLoss()\n",
        "#finally CrossEntropy loss applies the softmax function\n",
        "optimizer = torch.optim.Adam(model.parameters(), lr=learning_rate)"
      ],
      "metadata": {
        "id": "Um40Pncj-hmh"
      },
      "execution_count": null,
      "outputs": []
    },
    {
      "cell_type": "markdown",
      "source": [
        "3) Training"
      ],
      "metadata": {
        "id": "tWtBDObC-lV5"
      }
    },
    {
      "cell_type": "code",
      "source": [
        "def evaluate1(labels,outputs):\n",
        "  sum = 0\n",
        "  for index in range(len(labels)):\n",
        "    output = outputs[index]\n",
        "    label = labels[index]\n",
        "    total_promotion_used = int(torch.sum(label))\n",
        "\n",
        "    if total_promotion_used !=0:\n",
        "      valueTemp, indexTemp = torch.kthvalue(output, total_promotion_used)\n",
        "      for index2,temp in enumerate(output):\n",
        "        if temp>=valueTemp:\n",
        "          output[index2]=1\n",
        "        else:\n",
        "          output[index2]=0\n",
        "    else:\n",
        "      output = (output>0.5).float()\n",
        "\n",
        "    correct = (output == label).float()\n",
        "    if 0 not in correct:\n",
        "      sum+=1\n",
        "  return sum"
      ],
      "metadata": {
        "id": "5C1KE-dL3jaf"
      },
      "execution_count": null,
      "outputs": []
    },
    {
      "cell_type": "code",
      "source": [
        "def evaluate2(labels,outputs):\n",
        "  sum=0\n",
        "  for index in range(len(labels)):\n",
        "    output = outputs[index]\n",
        "    label = labels[index]\n",
        "    maximum = torch.max(output)\n",
        "    final_index = -1\n",
        "    for index in range(len(output)):\n",
        "      if output[index]==maximum:\n",
        "        final_index=index\n",
        "    if label[final_index] ==1:\n",
        "      sum+=1\n",
        "\n",
        "  return sum"
      ],
      "metadata": {
        "id": "RNhvHrE641jQ"
      },
      "execution_count": null,
      "outputs": []
    },
    {
      "cell_type": "code",
      "source": [
        "min_valid_loss = np.inf\n",
        "for e in range(num_epochs):\n",
        "  train_loss = 0.0\n",
        "  for data, labels in train_dataloader:\n",
        "  # Transfer Data to GPU if available\n",
        "    if torch.cuda.is_available():\n",
        "      data, labels = data.cuda(), labels.cuda()\n",
        "\n",
        "    # Clear the gradients\n",
        "    optimizer.zero_grad()\n",
        "    # Forward Pass\n",
        "    target = model(data.float())\n",
        "    # Find the Loss\n",
        "    loss = criterion(target,labels.float())\n",
        "    # Calculate gradients\n",
        "    loss.backward()\n",
        "    # Update Weights\n",
        "    optimizer.step()\n",
        "    # Calculate Loss\n",
        "    train_loss += loss.item()\n",
        "\n",
        "  valid_loss = 0.0\n",
        "  model.eval()\t # Optional when not using Model Specific layer\n",
        "  for data, labels in val_dataloader:\n",
        "  # Transfer Data to GPU if available\n",
        "    if torch.cuda.is_available():\n",
        "      data, labels = data.cuda(), labels.cuda()\n",
        "\n",
        "    # Forward Pass\n",
        "    target = model(data.float())\n",
        "    # Find the Loss\n",
        "    loss = criterion(target,labels.float())\n",
        "    # Calculate Loss\n",
        "    valid_loss += loss.item()\n",
        "\n",
        "  print(f'Epoch {e+1} \\t\\t Training Loss: {train_loss / len(train_dataloader)} \\t\\t Validation Loss: {valid_loss / len(val_dataloader)}')\n",
        "  if min_valid_loss > valid_loss/len(val_dataloader):\n",
        "      print(f'Validation Loss Decreased({min_valid_loss:.6f}--->{valid_loss/len(val_dataloader):.6f}) \\t Saving The Model')\n",
        "      min_valid_loss = valid_loss/len(val_dataloader)\n",
        "      #saving model\n",
        "      torch.save(model.state_dict(), 'saved_model.pth')\n",
        "\n",
        ""
      ],
      "metadata": {
        "colab": {
          "base_uri": "https://localhost:8080/"
        },
        "id": "Q4iXS-j760Ki",
        "outputId": "fca9d5c9-31c1-47bd-f0bf-dbe1fcf37cfb"
      },
      "execution_count": null,
      "outputs": [
        {
          "output_type": "stream",
          "name": "stdout",
          "text": [
            "Epoch 1 \t\t Training Loss: 1.2141607857420518 \t\t Validation Loss: 1.2137572957634646\n",
            "Validation Loss Decreased(inf--->1.213757) \t Saving The Model\n",
            "Epoch 2 \t\t Training Loss: 1.2141373360952672 \t\t Validation Loss: 1.2142757449552102\n",
            "Epoch 3 \t\t Training Loss: 1.2142363124694981 \t\t Validation Loss: 1.213418861323274\n",
            "Validation Loss Decreased(1.213757--->1.213419) \t Saving The Model\n",
            "Epoch 4 \t\t Training Loss: 1.213841268203856 \t\t Validation Loss: 1.2135219106350348\n",
            "Epoch 5 \t\t Training Loss: 1.2140792874876734 \t\t Validation Loss: 1.2137483665828683\n",
            "Epoch 6 \t\t Training Loss: 1.213980145595392 \t\t Validation Loss: 1.2132551154640854\n",
            "Validation Loss Decreased(1.213419--->1.213255) \t Saving The Model\n",
            "Epoch 7 \t\t Training Loss: 1.2138183974340313 \t\t Validation Loss: 1.2137124463043392\n",
            "Epoch 8 \t\t Training Loss: 1.213948152732514 \t\t Validation Loss: 1.213494963856715\n",
            "Epoch 9 \t\t Training Loss: 1.2138548151740425 \t\t Validation Loss: 1.2139219665066698\n",
            "Epoch 10 \t\t Training Loss: 1.2138972256236669 \t\t Validation Loss: 1.2143450600620733\n",
            "Epoch 11 \t\t Training Loss: 1.2138306893216364 \t\t Validation Loss: 1.2139586700907357\n",
            "Epoch 12 \t\t Training Loss: 1.2138236810996326 \t\t Validation Loss: 1.2137130740724626\n",
            "Epoch 13 \t\t Training Loss: 1.2137948780623755 \t\t Validation Loss: 1.2132893340788624\n",
            "Epoch 14 \t\t Training Loss: 1.2137605192650118 \t\t Validation Loss: 1.213176996423154\n",
            "Validation Loss Decreased(1.213255--->1.213177) \t Saving The Model\n",
            "Epoch 15 \t\t Training Loss: 1.213727513786222 \t\t Validation Loss: 1.2136339670531364\n",
            "Epoch 16 \t\t Training Loss: 1.2136797946845062 \t\t Validation Loss: 1.2133710992978384\n",
            "Epoch 17 \t\t Training Loss: 1.213789633028122 \t\t Validation Loss: 1.213118534282164\n",
            "Validation Loss Decreased(1.213177--->1.213119) \t Saving The Model\n",
            "Epoch 18 \t\t Training Loss: 1.2137499335080175 \t\t Validation Loss: 1.2132850582133412\n",
            "Epoch 19 \t\t Training Loss: 1.2137756231099157 \t\t Validation Loss: 1.2133426500497433\n",
            "Epoch 20 \t\t Training Loss: 1.213717422768718 \t\t Validation Loss: 1.213436947215078\n",
            "Epoch 21 \t\t Training Loss: 1.2136578955262272 \t\t Validation Loss: 1.2132783271110588\n"
          ]
        },
        {
          "output_type": "stream",
          "name": "stderr",
          "text": [
            "Exception ignored in: <function _MultiProcessingDataLoaderIter.__del__ at 0x7f88ab64d040>\n",
            "Traceback (most recent call last):\n",
            "  File \"/usr/local/lib/python3.8/dist-packages/torch/utils/data/dataloader.py\", line 1466, in __del__\n",
            "    self._shutdown_workers()\n",
            "  File \"/usr/local/lib/python3.8/dist-packages/torch/utils/data/dataloader.py\", line 1449, in _shutdown_workers\n",
            "    if w.is_alive():\n",
            "  File \"/usr/lib/python3.8/multiprocessing/process.py\", line 160, in is_alive\n",
            "    assert self._parent_pid == os.getpid(), 'can only test a child process'\n",
            "AssertionError: can only test a child process\n",
            "Exception ignored in: <function _MultiProcessingDataLoaderIter.__del__ at 0x7f88ab64d040>\n",
            "Traceback (most recent call last):\n",
            "  File \"/usr/local/lib/python3.8/dist-packages/torch/utils/data/dataloader.py\", line 1466, in __del__\n",
            "    self._shutdown_workers()\n",
            "  File \"/usr/local/lib/python3.8/dist-packages/torch/utils/data/dataloader.py\", line 1449, in _shutdown_workers\n",
            "    if w.is_alive():\n",
            "  File \"/usr/lib/python3.8/multiprocessing/process.py\", line 160, in is_alive\n",
            "    assert self._parent_pid == os.getpid(), 'can only test a child process'\n",
            "AssertionError: can only test a child process\n"
          ]
        },
        {
          "output_type": "stream",
          "name": "stdout",
          "text": [
            "Epoch 22 \t\t Training Loss: 1.2136409012927942 \t\t Validation Loss: 1.2133756696968503\n"
          ]
        },
        {
          "output_type": "stream",
          "name": "stderr",
          "text": [
            "Exception ignored in: <function _MultiProcessingDataLoaderIter.__del__ at 0x7f88ab64d040>\n",
            "Traceback (most recent call last):\n",
            "Exception ignored in:   File \"/usr/local/lib/python3.8/dist-packages/torch/utils/data/dataloader.py\", line 1466, in __del__\n",
            "    <function _MultiProcessingDataLoaderIter.__del__ at 0x7f88ab64d040>self._shutdown_workers()\n",
            "\n",
            "Traceback (most recent call last):\n",
            "  File \"/usr/local/lib/python3.8/dist-packages/torch/utils/data/dataloader.py\", line 1466, in __del__\n",
            "  File \"/usr/local/lib/python3.8/dist-packages/torch/utils/data/dataloader.py\", line 1449, in _shutdown_workers\n",
            "        if w.is_alive():self._shutdown_workers()\n",
            "\n",
            "  File \"/usr/local/lib/python3.8/dist-packages/torch/utils/data/dataloader.py\", line 1449, in _shutdown_workers\n",
            "  File \"/usr/lib/python3.8/multiprocessing/process.py\", line 160, in is_alive\n",
            "    if w.is_alive():    \n",
            "  File \"/usr/lib/python3.8/multiprocessing/process.py\", line 160, in is_alive\n",
            "AssertionErrorassert self._parent_pid == os.getpid(), 'can only test a child process'\n",
            ":     can only test a child process\n",
            "assert self._parent_pid == os.getpid(), 'can only test a child process'\n",
            "AssertionError: can only test a child process\n",
            "Exception ignored in: <function _MultiProcessingDataLoaderIter.__del__ at 0x7f88ab64d040>\n",
            "Traceback (most recent call last):\n",
            "  File \"/usr/local/lib/python3.8/dist-packages/torch/utils/data/dataloader.py\", line 1466, in __del__\n",
            "    self._shutdown_workers()\n",
            "  File \"/usr/local/lib/python3.8/dist-packages/torch/utils/data/dataloader.py\", line 1449, in _shutdown_workers\n",
            "    if w.is_alive():\n",
            "  File \"/usr/lib/python3.8/multiprocessing/process.py\", line 160, in is_alive\n",
            "    assert self._parent_pid == os.getpid(), 'can only test a child process'\n",
            "AssertionError: can only test a child process\n",
            "Exception ignored in: <function _MultiProcessingDataLoaderIter.__del__ at 0x7f88ab64d040>\n",
            "Traceback (most recent call last):\n",
            "  File \"/usr/local/lib/python3.8/dist-packages/torch/utils/data/dataloader.py\", line 1466, in __del__\n",
            "    self._shutdown_workers()\n",
            "  File \"/usr/local/lib/python3.8/dist-packages/torch/utils/data/dataloader.py\", line 1449, in _shutdown_workers\n",
            "    if w.is_alive():\n",
            "  File \"/usr/lib/python3.8/multiprocessing/process.py\", line 160, in is_alive\n",
            "    assert self._parent_pid == os.getpid(), 'can only test a child process'\n",
            "AssertionError: can only test a child process\n"
          ]
        },
        {
          "output_type": "stream",
          "name": "stdout",
          "text": [
            "Epoch 23 \t\t Training Loss: 1.2136945127044965 \t\t Validation Loss: 1.2138156138831615\n"
          ]
        },
        {
          "output_type": "stream",
          "name": "stderr",
          "text": [
            "Exception ignored in: Exception ignored in: <function _MultiProcessingDataLoaderIter.__del__ at 0x7f88ab64d040><function _MultiProcessingDataLoaderIter.__del__ at 0x7f88ab64d040>\n",
            "\n",
            "Traceback (most recent call last):\n",
            "Traceback (most recent call last):\n",
            "  File \"/usr/local/lib/python3.8/dist-packages/torch/utils/data/dataloader.py\", line 1466, in __del__\n",
            "  File \"/usr/local/lib/python3.8/dist-packages/torch/utils/data/dataloader.py\", line 1466, in __del__\n",
            "        self._shutdown_workers()\n",
            "  File \"/usr/local/lib/python3.8/dist-packages/torch/utils/data/dataloader.py\", line 1449, in _shutdown_workers\n",
            "self._shutdown_workers()\n",
            "    if w.is_alive():\n",
            "  File \"/usr/lib/python3.8/multiprocessing/process.py\", line 160, in is_alive\n",
            "  File \"/usr/local/lib/python3.8/dist-packages/torch/utils/data/dataloader.py\", line 1449, in _shutdown_workers\n",
            "    assert self._parent_pid == os.getpid(), 'can only test a child process'\n",
            "    AssertionErrorif w.is_alive():: can only test a child process\n",
            "  File \"/usr/lib/python3.8/multiprocessing/process.py\", line 160, in is_alive\n",
            "\n",
            "    assert self._parent_pid == os.getpid(), 'can only test a child process'\n",
            "AssertionError: can only test a child process\n",
            "Exception ignored in: Exception ignored in: <function _MultiProcessingDataLoaderIter.__del__ at 0x7f88ab64d040>\n",
            "<function _MultiProcessingDataLoaderIter.__del__ at 0x7f88ab64d040>\n",
            "Traceback (most recent call last):\n",
            "Traceback (most recent call last):\n",
            "  File \"/usr/local/lib/python3.8/dist-packages/torch/utils/data/dataloader.py\", line 1466, in __del__\n",
            "  File \"/usr/local/lib/python3.8/dist-packages/torch/utils/data/dataloader.py\", line 1466, in __del__\n",
            "        self._shutdown_workers()\n",
            "self._shutdown_workers()\n",
            "  File \"/usr/local/lib/python3.8/dist-packages/torch/utils/data/dataloader.py\", line 1449, in _shutdown_workers\n",
            "  File \"/usr/local/lib/python3.8/dist-packages/torch/utils/data/dataloader.py\", line 1449, in _shutdown_workers\n",
            "        if w.is_alive():\n",
            "if w.is_alive():\n",
            "  File \"/usr/lib/python3.8/multiprocessing/process.py\", line 160, in is_alive\n",
            "  File \"/usr/lib/python3.8/multiprocessing/process.py\", line 160, in is_alive\n",
            "        assert self._parent_pid == os.getpid(), 'can only test a child process'\n",
            "AssertionErrorassert self._parent_pid == os.getpid(), 'can only test a child process': can only test a child process\n",
            "AssertionError\n",
            ": can only test a child process\n"
          ]
        },
        {
          "output_type": "stream",
          "name": "stdout",
          "text": [
            "Epoch 24 \t\t Training Loss: 1.213595695985564 \t\t Validation Loss: 1.2132774786173042\n"
          ]
        },
        {
          "output_type": "stream",
          "name": "stderr",
          "text": [
            "Exception ignored in: <function _MultiProcessingDataLoaderIter.__del__ at 0x7f88ab64d040>Exception ignored in: \n",
            "Traceback (most recent call last):\n",
            "<function _MultiProcessingDataLoaderIter.__del__ at 0x7f88ab64d040>\n",
            "Traceback (most recent call last):\n",
            "  File \"/usr/local/lib/python3.8/dist-packages/torch/utils/data/dataloader.py\", line 1466, in __del__\n",
            "  File \"/usr/local/lib/python3.8/dist-packages/torch/utils/data/dataloader.py\", line 1466, in __del__\n",
            "          File \"/usr/local/lib/python3.8/dist-packages/torch/utils/data/dataloader.py\", line 1449, in _shutdown_workers\n",
            "self._shutdown_workers()self._shutdown_workers()\n",
            "    \n",
            "if w.is_alive():  File \"/usr/local/lib/python3.8/dist-packages/torch/utils/data/dataloader.py\", line 1449, in _shutdown_workers\n",
            "\n",
            "      File \"/usr/lib/python3.8/multiprocessing/process.py\", line 160, in is_alive\n",
            "if w.is_alive():    assert self._parent_pid == os.getpid(), 'can only test a child process'\n",
            "\n",
            "AssertionError  File \"/usr/lib/python3.8/multiprocessing/process.py\", line 160, in is_alive\n",
            ": can only test a child process\n",
            "    assert self._parent_pid == os.getpid(), 'can only test a child process'\n",
            "AssertionError: can only test a child process\n",
            "Exception ignored in: <function _MultiProcessingDataLoaderIter.__del__ at 0x7f88ab64d040>\n",
            "Traceback (most recent call last):\n",
            "  File \"/usr/local/lib/python3.8/dist-packages/torch/utils/data/dataloader.py\", line 1466, in __del__\n",
            "    self._shutdown_workers()\n",
            "  File \"/usr/local/lib/python3.8/dist-packages/torch/utils/data/dataloader.py\", line 1449, in _shutdown_workers\n",
            "    \n",
            "if w.is_alive():  File \"/usr/lib/python3.8/multiprocessing/process.py\", line 160, in is_alive\n",
            "Exception ignored in:     <function _MultiProcessingDataLoaderIter.__del__ at 0x7f88ab64d040>assert self._parent_pid == os.getpid(), 'can only test a child process'\n",
            "\n",
            "AssertionErrorTraceback (most recent call last):\n",
            ":   File \"/usr/local/lib/python3.8/dist-packages/torch/utils/data/dataloader.py\", line 1466, in __del__\n",
            "can only test a child process    self._shutdown_workers()\n",
            "\n",
            "  File \"/usr/local/lib/python3.8/dist-packages/torch/utils/data/dataloader.py\", line 1449, in _shutdown_workers\n",
            "    if w.is_alive():\n",
            "  File \"/usr/lib/python3.8/multiprocessing/process.py\", line 160, in is_alive\n",
            "    assert self._parent_pid == os.getpid(), 'can only test a child process'\n",
            "AssertionError: can only test a child process\n"
          ]
        },
        {
          "output_type": "stream",
          "name": "stdout",
          "text": [
            "Epoch 25 \t\t Training Loss: 1.213644569840029 \t\t Validation Loss: 1.2133079569708267\n"
          ]
        },
        {
          "output_type": "stream",
          "name": "stderr",
          "text": [
            "Exception ignored in: Exception ignored in: <function _MultiProcessingDataLoaderIter.__del__ at 0x7f88ab64d040>\n",
            "Traceback (most recent call last):\n",
            "  File \"/usr/local/lib/python3.8/dist-packages/torch/utils/data/dataloader.py\", line 1466, in __del__\n",
            "    self._shutdown_workers()\n",
            "  File \"/usr/local/lib/python3.8/dist-packages/torch/utils/data/dataloader.py\", line 1449, in _shutdown_workers\n",
            "    if w.is_alive():<function _MultiProcessingDataLoaderIter.__del__ at 0x7f88ab64d040>\n",
            "  File \"/usr/lib/python3.8/multiprocessing/process.py\", line 160, in is_alive\n",
            "    assert self._parent_pid == os.getpid(), 'can only test a child process'\n",
            "AssertionError: can only test a child process\n",
            "\n",
            "Traceback (most recent call last):\n",
            "  File \"/usr/local/lib/python3.8/dist-packages/torch/utils/data/dataloader.py\", line 1466, in __del__\n",
            "    self._shutdown_workers()\n",
            "  File \"/usr/local/lib/python3.8/dist-packages/torch/utils/data/dataloader.py\", line 1449, in _shutdown_workers\n",
            "    if w.is_alive():\n",
            "  File \"/usr/lib/python3.8/multiprocessing/process.py\", line 160, in is_alive\n",
            "    assert self._parent_pid == os.getpid(), 'can only test a child process'\n",
            "AssertionError: can only test a child process\n",
            "Exception ignored in: Exception ignored in: <function _MultiProcessingDataLoaderIter.__del__ at 0x7f88ab64d040>\n",
            "<function _MultiProcessingDataLoaderIter.__del__ at 0x7f88ab64d040>Traceback (most recent call last):\n",
            "  File \"/usr/local/lib/python3.8/dist-packages/torch/utils/data/dataloader.py\", line 1466, in __del__\n",
            "\n",
            "Traceback (most recent call last):\n",
            "    self._shutdown_workers()\n",
            "  File \"/usr/local/lib/python3.8/dist-packages/torch/utils/data/dataloader.py\", line 1449, in _shutdown_workers\n",
            "      File \"/usr/local/lib/python3.8/dist-packages/torch/utils/data/dataloader.py\", line 1466, in __del__\n",
            "if w.is_alive():\n",
            "    self._shutdown_workers()  File \"/usr/lib/python3.8/multiprocessing/process.py\", line 160, in is_alive\n",
            "\n",
            "      File \"/usr/local/lib/python3.8/dist-packages/torch/utils/data/dataloader.py\", line 1449, in _shutdown_workers\n",
            "assert self._parent_pid == os.getpid(), 'can only test a child process'    \n",
            "if w.is_alive():AssertionError\n",
            "  File \"/usr/lib/python3.8/multiprocessing/process.py\", line 160, in is_alive\n",
            ": can only test a child process    \n",
            "assert self._parent_pid == os.getpid(), 'can only test a child process'\n",
            "AssertionError: can only test a child process\n"
          ]
        },
        {
          "output_type": "stream",
          "name": "stdout",
          "text": [
            "Epoch 26 \t\t Training Loss: 1.2134973698533391 \t\t Validation Loss: 1.2138380369202035\n"
          ]
        },
        {
          "output_type": "stream",
          "name": "stderr",
          "text": [
            "Exception ignored in: Exception ignored in: <function _MultiProcessingDataLoaderIter.__del__ at 0x7f88ab64d040>\n",
            "<function _MultiProcessingDataLoaderIter.__del__ at 0x7f88ab64d040>Traceback (most recent call last):\n",
            "\n",
            "Traceback (most recent call last):\n",
            "  File \"/usr/local/lib/python3.8/dist-packages/torch/utils/data/dataloader.py\", line 1466, in __del__\n",
            "  File \"/usr/local/lib/python3.8/dist-packages/torch/utils/data/dataloader.py\", line 1466, in __del__\n",
            "        \n",
            "self._shutdown_workers()self._shutdown_workers()  File \"/usr/lib/python3.8/multiprocessing/process.py\", line 160, in is_alive\n",
            "  File \"/usr/local/lib/python3.8/dist-packages/torch/utils/data/dataloader.py\", line 1449, in _shutdown_workers\n",
            "    if w.is_alive():\n",
            "\n",
            "      File \"/usr/local/lib/python3.8/dist-packages/torch/utils/data/dataloader.py\", line 1449, in _shutdown_workers\n",
            "assert self._parent_pid == os.getpid(), 'can only test a child process'    \n",
            "AssertionErrorif w.is_alive():\n",
            "  File \"/usr/lib/python3.8/multiprocessing/process.py\", line 160, in is_alive\n",
            ": can only test a child process\n",
            "    assert self._parent_pid == os.getpid(), 'can only test a child process'\n",
            "AssertionError: can only test a child process\n"
          ]
        },
        {
          "output_type": "stream",
          "name": "stdout",
          "text": [
            "Epoch 27 \t\t Training Loss: 1.213653164564586 \t\t Validation Loss: 1.2132614968601938\n",
            "Epoch 28 \t\t Training Loss: 1.2136346744918711 \t\t Validation Loss: 1.2133436859421765\n",
            "Epoch 29 \t\t Training Loss: 1.2136733674681996 \t\t Validation Loss: 1.2131878151896407\n",
            "Epoch 30 \t\t Training Loss: 1.2135295994248267 \t\t Validation Loss: 1.213305650466499\n",
            "Epoch 31 \t\t Training Loss: 1.2136056163551099 \t\t Validation Loss: 1.2134418541639693\n",
            "Epoch 32 \t\t Training Loss: 1.2136006550361735 \t\t Validation Loss: 1.2133333820160435\n",
            "Epoch 33 \t\t Training Loss: 1.2135727324237309 \t\t Validation Loss: 1.214246752111359\n",
            "Epoch 34 \t\t Training Loss: 1.213594696037384 \t\t Validation Loss: 1.2129379782380767\n",
            "Validation Loss Decreased(1.213119--->1.212938) \t Saving The Model\n",
            "Epoch 35 \t\t Training Loss: 1.213650424809869 \t\t Validation Loss: 1.212859074670202\n",
            "Validation Loss Decreased(1.212938--->1.212859) \t Saving The Model\n",
            "Epoch 36 \t\t Training Loss: 1.2135253948196594 \t\t Validation Loss: 1.2136129670944371\n",
            "Epoch 37 \t\t Training Loss: 1.2135926159818502 \t\t Validation Loss: 1.2139370279513142\n",
            "Epoch 38 \t\t Training Loss: 1.2135496095206755 \t\t Validation Loss: 1.2136536501260775\n",
            "Epoch 39 \t\t Training Loss: 1.2135684211374167 \t\t Validation Loss: 1.213343777791957\n",
            "Epoch 40 \t\t Training Loss: 1.2135096553896294 \t\t Validation Loss: 1.2132164210569663\n",
            "Epoch 41 \t\t Training Loss: 1.2136050924763466 \t\t Validation Loss: 1.2142057811069265\n",
            "Epoch 42 \t\t Training Loss: 1.2136444097659627 \t\t Validation Loss: 1.21312402070127\n",
            "Epoch 43 \t\t Training Loss: 1.213495205520746 \t\t Validation Loss: 1.2130939892080963\n",
            "Epoch 44 \t\t Training Loss: 1.2135669984429447 \t\t Validation Loss: 1.2136572127250096\n",
            "Epoch 45 \t\t Training Loss: 1.2136944778420606 \t\t Validation Loss: 1.2129451188256646\n",
            "Epoch 46 \t\t Training Loss: 1.2135894223524202 \t\t Validation Loss: 1.2135060133643676\n",
            "Epoch 47 \t\t Training Loss: 1.2134408807377626 \t\t Validation Loss: 1.213247936140458\n",
            "Epoch 48 \t\t Training Loss: 1.2134750632686973 \t\t Validation Loss: 1.213080887318495\n",
            "Epoch 49 \t\t Training Loss: 1.2135104055426997 \t\t Validation Loss: 1.213107199907582\n",
            "Epoch 50 \t\t Training Loss: 1.2134997170130597 \t\t Validation Loss: 1.2130655465206999\n",
            "Epoch 51 \t\t Training Loss: 1.213514968962245 \t\t Validation Loss: 1.21306019466571\n",
            "Epoch 52 \t\t Training Loss: 1.213472985062722 \t\t Validation Loss: 1.213474456787947\n",
            "Epoch 53 \t\t Training Loss: 1.213485541367419 \t\t Validation Loss: 1.2134572281840255\n",
            "Epoch 54 \t\t Training Loss: 1.213503893107106 \t\t Validation Loss: 1.2130534368669679\n",
            "Epoch 55 \t\t Training Loss: 1.2134393508386836 \t\t Validation Loss: 1.2138195359246233\n",
            "Epoch 56 \t\t Training Loss: 1.213544689345695 \t\t Validation Loss: 1.2132507148405987\n",
            "Epoch 57 \t\t Training Loss: 1.2135542363486749 \t\t Validation Loss: 1.2129090981824058\n",
            "Epoch 58 \t\t Training Loss: 1.213469604907047 \t\t Validation Loss: 1.2133362666295897\n",
            "Epoch 59 \t\t Training Loss: 1.2135189535746251 \t\t Validation Loss: 1.2131702209663615\n",
            "Epoch 60 \t\t Training Loss: 1.2134695102305826 \t\t Validation Loss: 1.2131831219520166\n",
            "Epoch 61 \t\t Training Loss: 1.2134718202246435 \t\t Validation Loss: 1.2129338679604005\n",
            "Epoch 62 \t\t Training Loss: 1.2135772674368472 \t\t Validation Loss: 1.2129899046320547\n",
            "Epoch 63 \t\t Training Loss: 1.21346579205934 \t\t Validation Loss: 1.2131760868939638\n",
            "Epoch 64 \t\t Training Loss: 1.213444735532064 \t\t Validation Loss: 1.2156585587899635\n",
            "Epoch 65 \t\t Training Loss: 1.2134159218511202 \t\t Validation Loss: 1.2128284400115248\n",
            "Validation Loss Decreased(1.212859--->1.212828) \t Saving The Model\n",
            "Epoch 66 \t\t Training Loss: 1.2133882939815521 \t\t Validation Loss: 1.2131111634768703\n",
            "Epoch 67 \t\t Training Loss: 1.2134235263987503 \t\t Validation Loss: 1.2133182535685199\n",
            "Epoch 68 \t\t Training Loss: 1.2133545962443675 \t\t Validation Loss: 1.2129625663056587\n",
            "Epoch 69 \t\t Training Loss: 1.2134179992195593 \t\t Validation Loss: 1.2134062892798796\n",
            "Epoch 70 \t\t Training Loss: 1.2133866507359354 \t\t Validation Loss: 1.2130173216170395\n",
            "Epoch 71 \t\t Training Loss: 1.2133953115211438 \t\t Validation Loss: 1.2129898549382525\n",
            "Epoch 72 \t\t Training Loss: 1.2134979819874574 \t\t Validation Loss: 1.2132154818999403\n",
            "Epoch 73 \t\t Training Loss: 1.2134923337494183 \t\t Validation Loss: 1.213116074124879\n",
            "Epoch 74 \t\t Training Loss: 1.2134508174741576 \t\t Validation Loss: 1.2131275077125787\n",
            "Epoch 75 \t\t Training Loss: 1.2134031153674427 \t\t Validation Loss: 1.213407648496103\n",
            "Epoch 76 \t\t Training Loss: 1.213533841125859 \t\t Validation Loss: 1.2130687262609916\n",
            "Epoch 77 \t\t Training Loss: 1.2134069571450388 \t\t Validation Loss: 1.213314792311443\n",
            "Epoch 78 \t\t Training Loss: 1.2134350087729215 \t\t Validation Loss: 1.2132859866568857\n",
            "Epoch 79 \t\t Training Loss: 1.2134078373953665 \t\t Validation Loss: 1.2135090209910127\n",
            "Epoch 80 \t\t Training Loss: 1.2134260458117068 \t\t Validation Loss: 1.212858582548012\n",
            "Epoch 81 \t\t Training Loss: 1.2134381994360783 \t\t Validation Loss: 1.2131410904525315\n",
            "Epoch 82 \t\t Training Loss: 1.2133969916532414 \t\t Validation Loss: 1.2131532779971108\n",
            "Epoch 83 \t\t Training Loss: 1.2134630452553616 \t\t Validation Loss: 1.2130549025898516\n",
            "Epoch 84 \t\t Training Loss: 1.213392596822712 \t\t Validation Loss: 1.2129400808023905\n",
            "Epoch 85 \t\t Training Loss: 1.213355173934818 \t\t Validation Loss: 1.213626898388952\n",
            "Epoch 86 \t\t Training Loss: 1.2134651513792034 \t\t Validation Loss: 1.2131120347934807\n",
            "Epoch 87 \t\t Training Loss: 1.213399618270805 \t\t Validation Loss: 1.2130912454052887\n",
            "Epoch 88 \t\t Training Loss: 1.2134316541620942 \t\t Validation Loss: 1.2129668233964148\n",
            "Epoch 89 \t\t Training Loss: 1.2133885343892792 \t\t Validation Loss: 1.2128805727534329\n",
            "Epoch 90 \t\t Training Loss: 1.2133324719982908 \t\t Validation Loss: 1.2130693355335285\n",
            "Epoch 91 \t\t Training Loss: 1.2134824581880481 \t\t Validation Loss: 1.213474793198237\n",
            "Epoch 92 \t\t Training Loss: 1.2134084259039903 \t\t Validation Loss: 1.2134415772187346\n",
            "Epoch 93 \t\t Training Loss: 1.2133499782802908 \t\t Validation Loss: 1.2129973769885873\n",
            "Epoch 94 \t\t Training Loss: 1.213546661393983 \t\t Validation Loss: 1.2133406225146957\n",
            "Epoch 95 \t\t Training Loss: 1.2134695998469338 \t\t Validation Loss: 1.2131867137949137\n",
            "Epoch 96 \t\t Training Loss: 1.2133971780398969 \t\t Validation Loss: 1.2133270038653872\n",
            "Epoch 97 \t\t Training Loss: 1.213468576028978 \t\t Validation Loss: 1.2132811458733377\n",
            "Epoch 98 \t\t Training Loss: 1.2134566073953688 \t\t Validation Loss: 1.2130122954937557\n",
            "Epoch 99 \t\t Training Loss: 1.2134214796352722 \t\t Validation Loss: 1.2130013490379274\n",
            "Epoch 100 \t\t Training Loss: 1.213318783135548 \t\t Validation Loss: 1.2131876011294\n"
          ]
        }
      ]
    },
    {
      "cell_type": "markdown",
      "source": [
        "##Constraints and what to do"
      ],
      "metadata": {
        "id": "bo3B07x_wSjL"
      }
    },
    {
      "cell_type": "code",
      "source": [
        "i = 0\n",
        "list_not_sales = []\n",
        "while i<len(temp_data):\n",
        "  X_temp = temp_data[i+5:i+57]\n",
        "  X_temp1 = np.delete(X_temp,[0,1],axis = 1)\n",
        "  X_temp1 = X_temp1.astype('int')\n",
        "  data = np.sum(X_temp1,axis = 0)\n",
        "  if data[2]>47 and X_temp1[0][4]==2:\n",
        "    list_not_sales.append(X_temp[0][0])\n",
        "  if data[2]>23 and X_temp1[0][4]==1:\n",
        "    list_not_sales.append(X_temp[0][0])\n",
        "  if data[2]>11 and X_temp1[0][4]==0:\n",
        "    list_not_sales.append(X_temp[0][0])\n",
        "  i+=57"
      ],
      "metadata": {
        "id": "cSfs8QAud5JX"
      },
      "execution_count": null,
      "outputs": []
    },
    {
      "cell_type": "code",
      "source": [
        "print(len(list_not_sales))"
      ],
      "metadata": {
        "colab": {
          "base_uri": "https://localhost:8080/"
        },
        "id": "zKPcSL6HfLxc",
        "outputId": "80ea50c6-ece4-4e09-b32b-19f273ca53ca"
      },
      "execution_count": null,
      "outputs": [
        {
          "output_type": "stream",
          "name": "stdout",
          "text": [
            "3767\n"
          ]
        }
      ]
    },
    {
      "cell_type": "markdown",
      "source": [
        "##Neural Network Testing"
      ],
      "metadata": {
        "id": "BGR2CBWZrzlm"
      }
    },
    {
      "cell_type": "code",
      "source": [
        "final_answer = []\n",
        "PATH = \"/content/saved_model.pth\"\n",
        "ann = NeuralNet(input_size,hidden_size,num_classes)\n",
        "ann.load_state_dict(torch.load(PATH))\n",
        "tt = torch.from_numpy(X_test.astype('float'))\n",
        "predicitons = ann(tt.float())\n",
        "predictions = softmax(predicitons)\n",
        "index = 0\n",
        "\n",
        "for prediction in predictions:\n",
        "  #prediciton for every doctor\n",
        "  data = [float(prediction[0].item()),float(prediction[1].item()),float(prediction[2].item())]\n",
        "  if data[0]>data[1] and data[0]>data[2]:\n",
        "    if (list_of_doctors[index] not in list_not_sales):\n",
        "      final_answer.append(0)\n",
        "    else:\n",
        "      if data[1]>=data[2]:\n",
        "        final_answer.append(1)\n",
        "      else:\n",
        "        final_answer.append(2)\n",
        "  elif data[1]>=data[2]:\n",
        "    final_answer.append(1)\n",
        "  else:\n",
        "    final_answer.append(2)\n",
        "  index = index + 1"
      ],
      "metadata": {
        "id": "KnJ3m9JUryn7"
      },
      "execution_count": null,
      "outputs": []
    },
    {
      "cell_type": "code",
      "source": [
        "len(final_answer)"
      ],
      "metadata": {
        "id": "6xpzquFMuz94",
        "colab": {
          "base_uri": "https://localhost:8080/"
        },
        "outputId": "be626196-9bf4-4d47-dd2f-26d7d5fab63e"
      },
      "execution_count": null,
      "outputs": [
        {
          "output_type": "execute_result",
          "data": {
            "text/plain": [
              "10000"
            ]
          },
          "metadata": {},
          "execution_count": 121
        }
      ]
    },
    {
      "cell_type": "code",
      "source": [
        "zero = 0\n",
        "one = 0\n",
        "two = 0\n",
        "for data in final_answer:\n",
        "  if data == 0:\n",
        "    zero = zero+1\n",
        "  elif data == 1:\n",
        "    one = one+1\n",
        "  else:\n",
        "    two =two+1\n",
        "\n",
        "print(zero)\n",
        "print(one)\n",
        "print(two)"
      ],
      "metadata": {
        "colab": {
          "base_uri": "https://localhost:8080/"
        },
        "id": "HEc0HCs4I7GB",
        "outputId": "4a87d0d2-d880-458d-ae57-58747c4196c7"
      },
      "execution_count": null,
      "outputs": [
        {
          "output_type": "stream",
          "name": "stdout",
          "text": [
            "6189\n",
            "1270\n",
            "2541\n"
          ]
        }
      ]
    },
    {
      "cell_type": "code",
      "source": [
        "count = one + zero + two"
      ],
      "metadata": {
        "id": "uwXnHOhyLj2N"
      },
      "execution_count": null,
      "outputs": []
    },
    {
      "cell_type": "code",
      "source": [
        "zero/count, one/count, two/count"
      ],
      "metadata": {
        "colab": {
          "base_uri": "https://localhost:8080/"
        },
        "id": "kFhQdjclLtAw",
        "outputId": "95a64c28-c6c5-4388-b855-4ff627c4e8ba"
      },
      "execution_count": null,
      "outputs": [
        {
          "output_type": "execute_result",
          "data": {
            "text/plain": [
              "(0.6085, 0.1444, 0.2471)"
            ]
          },
          "metadata": {},
          "execution_count": 178
        }
      ]
    },
    {
      "cell_type": "code",
      "source": [
        "df = pd.DataFrame()\n",
        "df['Physician_ID'] = list_of_doctors\n",
        "df['Channel'] = final_answer\n",
        "df.to_csv('filename.csv', index=False)"
      ],
      "metadata": {
        "id": "Mbwu1rtBEImP"
      },
      "execution_count": null,
      "outputs": []
    },
    {
      "cell_type": "markdown",
      "source": [
        "#Saving Model"
      ],
      "metadata": {
        "id": "326TS6Vm-X9H"
      }
    },
    {
      "cell_type": "code",
      "source": [
        "File = '63percentNeuralNetwork'"
      ],
      "metadata": {
        "id": "Jox0VWiK-a9z"
      },
      "execution_count": null,
      "outputs": []
    },
    {
      "cell_type": "code",
      "source": [
        "torch.save(model.state_dict(), File)"
      ],
      "metadata": {
        "id": "rQ7E78JG-XVh"
      },
      "execution_count": null,
      "outputs": []
    }
  ]
}